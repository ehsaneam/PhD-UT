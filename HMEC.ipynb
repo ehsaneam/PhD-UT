{
  "cells": [
    {
      "cell_type": "markdown",
      "metadata": {
        "colab_type": "text",
        "id": "view-in-github"
      },
      "source": [
        "<a href=\"https://colab.research.google.com/github/ehsaneam/PhD-UT/blob/main/HMEC.ipynb\" target=\"_parent\"><img src=\"https://colab.research.google.com/assets/colab-badge.svg\" alt=\"Open In Colab\"/></a>"
      ]
    },
    {
      "cell_type": "code",
      "execution_count": 1,
      "metadata": {
        "id": "pcV_MPpHUNP3"
      },
      "outputs": [],
      "source": [
        "UPDATE_DRIVE=False\n",
        "\n",
        "# from google.colab import drive\n",
        "# drive.mount('/content/drive/')\n",
        "# %cp ./drive/MyDrive/Education/PhD/Simulation/* .\n",
        "# %rm -rdf sample_data\n",
        "# %pwd"
      ]
    },
    {
      "cell_type": "code",
      "execution_count": 2,
      "metadata": {},
      "outputs": [],
      "source": [
        "if UPDATE_DRIVE:\n",
        "    %cp *.py ./drive/MyDrive/Education/PhD/Simulation/"
      ]
    },
    {
      "cell_type": "markdown",
      "metadata": {},
      "source": [
        "# Net Generation"
      ]
    },
    {
      "cell_type": "code",
      "execution_count": null,
      "metadata": {},
      "outputs": [],
      "source": [
        "import numpy as np\n",
        "import networkx as nx\n",
        "from net import NetGenerator\n",
        "\n",
        "ng = NetGenerator()\n",
        "x = ng.g\n",
        "print( )\n",
        "node_positions = {node: ng.g.nodes[node][\"nd\"].loc for node in ng.g.nodes}\n",
        "labels = {node: ng.g.nodes[node]['nd'].id for node in ng.g.nodes}\n",
        "nx.draw(x, pos=node_positions, with_labels=True, labels=labels)"
      ]
    },
    {
      "cell_type": "markdown",
      "metadata": {},
      "source": [
        "# Request Generation\n"
      ]
    },
    {
      "cell_type": "code",
      "execution_count": null,
      "metadata": {},
      "outputs": [],
      "source": []
    }
  ],
  "metadata": {
    "colab": {
      "authorship_tag": "ABX9TyOStrAXAEIzVZeSYCw8bmTb",
      "include_colab_link": true,
      "provenance": []
    },
    "kernelspec": {
      "display_name": "Python 3.9.0 64-bit",
      "metadata": {
        "interpreter": {
          "hash": "0d008810b9c8467bcb3ca39aa2180e5b81b3a9acb136aab30d47954377cc5120"
        }
      },
      "name": "python3"
    },
    "language_info": {
      "codemirror_mode": {
        "name": "ipython",
        "version": 3
      },
      "file_extension": ".py",
      "mimetype": "text/x-python",
      "name": "python",
      "nbconvert_exporter": "python",
      "pygments_lexer": "ipython3",
      "version": "3.12.4"
    }
  },
  "nbformat": 4,
  "nbformat_minor": 0
}
